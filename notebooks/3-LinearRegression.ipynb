{
  "cells": [
    {
      "cell_type": "markdown",
      "metadata": {
        "id": "5NsYjykYVgKW"
      },
      "source": [
        "# Linear regression\n",
        "\n",
        "The goal of this exercise is to implement the least mean squares algorithm (LMS) for linear regression seen in the course.\n",
        "\n",
        "We start by importing numpy and matplotlib."
      ]
    },
    {
      "cell_type": "code",
      "execution_count": null,
      "metadata": {
        "id": "GIKo6GosVgKY"
      },
      "outputs": [],
      "source": [
        "import numpy as np\n",
        "import matplotlib.pyplot as plt"
      ]
    },
    {
      "cell_type": "markdown",
      "metadata": {
        "id": "u9Gh8iZsVgKZ"
      },
      "source": [
        "## Least mean squares\n",
        "\n",
        "To generate the data for the exercise, we will use the `scikit-learn` library <https://scikit-learn.org>. It provides a huge selection of already implemented machine learning algorithms for classification, regression or clustering.\n",
        "\n",
        "If you use Colab, `scikit-learn` should already be installed. Otherwise, install it with either `conda` or `pip` (you may need to restart this notebook afterwards):\n",
        "\n",
        "```\n",
        "conda install scikit-learn\n",
        "# or:\n",
        "pip install scikit-learn\n",
        "```\n",
        "\n",
        "We will use the method `sklearn.datasets.make_regression` to generate the data. The documentation of this method is available at <https://scikit-learn.org/stable/modules/generated/sklearn.datasets.make_regression.html>.\n",
        "\n",
        "The following cell imports the method:"
      ]
    },
    {
      "cell_type": "code",
      "execution_count": null,
      "metadata": {
        "id": "6aEgkQ4kVgKZ"
      },
      "outputs": [],
      "source": [
        "from sklearn.datasets import make_regression"
      ]
    },
    {
      "cell_type": "markdown",
      "metadata": {
        "id": "vu-FuZSlVgKZ"
      },
      "source": [
        "We can now generate the data. We start with the simplest case where the inputs have only one dimension. We will generate 100 samples $(x_i, t_i)$ linked by a linear relationship and some noise.\n",
        "\n",
        "The following code generates the data:"
      ]
    },
    {
      "cell_type": "code",
      "execution_count": null,
      "metadata": {
        "id": "UY1q5zj4VgKa"
      },
      "outputs": [],
      "source": [
        "N = 100\n",
        "X, t = make_regression(n_samples=N, n_features=1, noise=15.0)"
      ]
    },
    {
      "cell_type": "markdown",
      "metadata": {
        "id": "Uu4FCPE3VgKa"
      },
      "source": [
        "`n_samples` is the number of samples generates, `n_features` is the number of input variables and `noise` quantifies how the points deviate from the linear relationship.\n",
        "\n",
        "**Q:** Print the shape of the arrays `X` and `t` to better understand what is generated. Visualize the dataset using matplotlib (`plt.scatter`). Vary the value of the `noise` argument in the previous cell and visualize the data again."
      ]
    },
    {
      "cell_type": "code",
      "execution_count": 1,
      "metadata": {
        "id": "bwf2-KQ6VgKa",
        "colab": {
          "base_uri": "https://localhost:8080/",
          "height": 141
        },
        "outputId": "7300d36f-35f5-46b0-f1f1-263e59113c38"
      },
      "outputs": [
        {
          "output_type": "error",
          "ename": "NameError",
          "evalue": "name 'plt' is not defined",
          "traceback": [
            "\u001b[0;31m---------------------------------------------------------------------------\u001b[0m",
            "\u001b[0;31mNameError\u001b[0m                                 Traceback (most recent call last)",
            "\u001b[0;32m<ipython-input-1-1516a20b26b1>\u001b[0m in \u001b[0;36m<cell line: 1>\u001b[0;34m()\u001b[0m\n\u001b[0;32m----> 1\u001b[0;31m \u001b[0mplt\u001b[0m\u001b[0;34m.\u001b[0m\u001b[0mscatter\u001b[0m\u001b[0;34m(\u001b[0m\u001b[0;34m)\u001b[0m\u001b[0;34m\u001b[0m\u001b[0;34m\u001b[0m\u001b[0m\n\u001b[0m",
            "\u001b[0;31mNameError\u001b[0m: name 'plt' is not defined"
          ]
        }
      ],
      "source": [
        "plt.scatter()"
      ]
    },
    {
      "cell_type": "markdown",
      "metadata": {
        "id": "QGm7JhPsVgKa"
      },
      "source": [
        "Now is the time to implement the LMS algorithm with numpy.\n",
        "\n",
        "Remember the LMS algorithm from the course:\n",
        "\n",
        "* $w=0 \\quad;\\quad b=0$\n",
        "\n",
        "* **for** M epochs:\n",
        "\n",
        "    * $dw=0 \\quad;\\quad db=0$\n",
        "\n",
        "    * **for** each sample $(x_i, t_i)$:\n",
        "\n",
        "        * $y_i = w \\, x_i + b$\n",
        "\n",
        "        * $dw = dw + (t_i - y_i) \\, x_i$\n",
        "\n",
        "        * $db = db + (t_i - y_i)$\n",
        "\n",
        "    * $\\Delta w = \\eta \\, \\frac{1}{N} dw$\n",
        "\n",
        "    * $\\Delta b = \\eta \\, \\frac{1}{N} db$\n",
        "    \n",
        "Our linear model $y = w \\, x + b$ predicts outputs for an input $x$. The error $t-y$ between the prediction and the data is used to adapt the weight $w$ and the bias $b$ at the end of each epoch.\n",
        "\n",
        "**Q:** Implement the LMS algorithm and apply it to the generated data. The Python code that you will write is almost a line-by-line translation of the pseudo-code above. You will use a learning rate `eta = 0.1` at first, but you will vary this value later. Start by running a single epoch, as it will be easier to debug it, and then increase the number of epochs to 100. Print the value of the weight and bias at the end."
      ]
    },
    {
      "cell_type": "code",
      "execution_count": null,
      "metadata": {
        "id": "4mtY3LkSVgKb"
      },
      "outputs": [],
      "source": []
    },
    {
      "cell_type": "markdown",
      "metadata": {
        "id": "XIgclU7rVgKb"
      },
      "source": [
        "**Q:** Visualize the quality of the fit by superposing the learned model to the data with matplotlib.\n",
        "\n",
        "*Tip*: you can get the extreme values of the xaxis with `X.min()` and `X.max()`. To visualize the model, you just need to plot a line between the points `(X.min(), w*X.min()+b)` and `(X.max(), w*X.max()+b)`."
      ]
    },
    {
      "cell_type": "code",
      "execution_count": null,
      "metadata": {
        "id": "sXvSMZZCVgKb"
      },
      "outputs": [],
      "source": []
    },
    {
      "cell_type": "markdown",
      "metadata": {
        "id": "FIP8a4O3VgKb"
      },
      "source": [
        "Another option is to predict a value for all inputs and plot this vector $y$ against the desired values $t$.\n",
        "\n",
        "**Q:** Make a scatter plot where $t$ is the x-axis and $y = w\\, x + b$ is the y-axis. How should the points be arranged in the ideal case? Also plot what this ideal relationship should be."
      ]
    },
    {
      "cell_type": "code",
      "execution_count": null,
      "metadata": {
        "id": "OzNm-43MVgKb"
      },
      "outputs": [],
      "source": []
    },
    {
      "cell_type": "markdown",
      "metadata": {
        "id": "zhs9wFIqVgKb"
      },
      "source": [
        "A much better method to analyse the result of the learning algorithm is to track the **mean squared error** (mse) after each epoch, i.e. the loss function which we actually want to minimize. The MSE is defined as:\n",
        "\n",
        "$$\\text{mse} = \\frac{1}{N} \\, \\sum_{i=1}^N (t_i - y_i)^2$$\n",
        "\n",
        "**Q:** Modify your LMS algorithm (either directly or copy it in the next cell) to track the mse after each epoch. After each epoch, append the mse on the training set to a list (initially empty) and plot it at the end. How does the mse evolve? Which value does it get in the end? Why? How many epochs do you actually need?"
      ]
    },
    {
      "cell_type": "code",
      "execution_count": null,
      "metadata": {
        "id": "yURdtT-UVgKb"
      },
      "outputs": [],
      "source": []
    },
    {
      "cell_type": "markdown",
      "metadata": {
        "id": "BgRGwb5aVgKc"
      },
      "source": [
        "Let's now study the influence of the learning rate `eta=0.1` seemed to work, but is it the best value?\n",
        "\n",
        "**Q:** Iterate over multiple values of `eta` using a logarithmic scale and plot the final mse after 100 epochs as a function of the learning rate. Conclude.\n",
        "\n",
        "*Hint:* the logarithmic scale means that you will try values such as $10^{-5}$, $10^{-4}$, $10^{-3}$, etc. until 1.0. In Python, you can either write explictly 0.0001 or use the notation `1e-4`. For the plot, use `np.log10(eta)` to only display the exponent on the X-axis."
      ]
    },
    {
      "cell_type": "code",
      "execution_count": null,
      "metadata": {
        "id": "nf4R8V8_VgKc"
      },
      "outputs": [],
      "source": []
    },
    {
      "cell_type": "markdown",
      "metadata": {
        "id": "xqbYZrCMVgKc"
      },
      "source": [
        "## Scikit-learn\n",
        "\n",
        "The code that you have written is functional, but extremely slow, as you use for loops in Python. For so little data samples, it does not make a difference, but if you had millions of samples, this would start to be a problem.\n",
        "\n",
        "The solution is to use optimized implementations of the algorithms, running in C++ or FORTRAN under the hood. We will use here the LMS algorithm provided by `scikit-learn` as you have already installed it and it is very simple to use. Note that one could use tensorflow too, but that would be killing a fly with a sledgehammer.\n",
        "\n",
        "`scikit-learn` provides a `LinearRegression` object that implements LMS. The documentation is at: <https://scikit-learn.org/stable/modules/generated/sklearn.linear_model.LinearRegression.html>.\n",
        "\n",
        "You simply import it with:\n",
        "\n",
        "```python\n",
        "from sklearn.linear_model import LinearRegression\n",
        "```\n",
        "\n",
        "You create the object with:\n",
        "\n",
        "```python\n",
        "reg = LinearRegression()\n",
        "```\n",
        "\n",
        "`reg` is now an object with different methods (`fit()`, `predict()`) that accept any kind of data and performs linear regression.\n",
        "\n",
        "To train the model on the data $(X, t)$, simply use:\n",
        "\n",
        "```python\n",
        "reg.fit(X, t)\n",
        "```\n",
        "\n",
        "The parameters of the model are obtained with `reg.coef_` for $w$ and `reg.intercept_` for $b$.\n",
        "\n",
        "You can predict outputs for new inputs using:\n",
        "\n",
        "```python\n",
        "y = reg.predict(X)\n",
        "```\n",
        "\n",
        "**Q:** Apply linear regression on the data using `scikit-learn`. Check the model parameters after learning and compare them to what you obtained previously. Print the mse and make a plot comparing the predictions with the data."
      ]
    },
    {
      "cell_type": "markdown",
      "metadata": {
        "id": "v-plxB4xVgKc"
      },
      "source": [
        "## Delta learning rule\n",
        "\n",
        "Let's now implement the online version of LMS, the **delta learning rule**. The only difference is that the parameter updates are applied immediately after each example is evaluated, not at the end of training.\n",
        "\n",
        "* $w=0 \\quad;\\quad b=0$\n",
        "\n",
        "* **for** M epochs:\n",
        "\n",
        "    * **for** each sample $(x_i, t_i)$:\n",
        "\n",
        "        * $y_i = w \\, x_i + b$\n",
        "\n",
        "        * $\\Delta w = \\eta \\, (t_i - y_i ) \\, x_i$\n",
        "\n",
        "        * $\\Delta b = \\eta \\, (t_i - y_i)$\n",
        "        \n",
        "**Q:** Implement the delta learning rule for the regression problem with `eta = 0.1`. Plot the evolution of the mse and compare it to LMS."
      ]
    },
    {
      "cell_type": "code",
      "execution_count": 6,
      "metadata": {
        "id": "oDabgbq1VgKc"
      },
      "outputs": [],
      "source": [
        "from sklearn.linear_model import LinearRegression\n",
        "from sklearn.datasets import make_regression\n",
        "import matplotlib.pyplot as plt"
      ]
    },
    {
      "cell_type": "code",
      "execution_count": 11,
      "metadata": {
        "id": "_YDP7JnDVgKc",
        "colab": {
          "base_uri": "https://localhost:8080/"
        },
        "outputId": "bb74ab97-8f3d-424a-a7b7-d70693d19078"
      },
      "outputs": [
        {
          "output_type": "stream",
          "name": "stdout",
          "text": [
            "X:  [[-4.18647207e-02]\n",
            " [ 2.05450776e-01]\n",
            " [ 3.30594652e-01]\n",
            " [-9.28247899e-01]\n",
            " [ 2.99616619e-01]\n",
            " [-6.14336036e-01]\n",
            " [-1.09329135e-01]\n",
            " [-1.45730075e+00]\n",
            " [ 6.32256243e-01]\n",
            " [ 4.60314987e-01]\n",
            " [-1.46876291e+00]\n",
            " [ 1.44783790e+00]\n",
            " [ 6.17459212e-01]\n",
            " [-1.13751492e+00]\n",
            " [ 1.01892769e+00]\n",
            " [-6.32189295e-01]\n",
            " [-5.29873844e-02]\n",
            " [-2.06168714e+00]\n",
            " [ 7.59558782e-01]\n",
            " [-4.66231286e-01]\n",
            " [ 3.54715293e-01]\n",
            " [-4.20279054e-02]\n",
            " [ 6.90139000e-01]\n",
            " [-2.12782833e-01]\n",
            " [ 2.68333474e-01]\n",
            " [ 5.75284913e-01]\n",
            " [ 1.20470008e+00]\n",
            " [-1.38582800e+00]\n",
            " [-4.41276260e-01]\n",
            " [-2.72683019e-01]\n",
            " [-9.15875129e-01]\n",
            " [ 1.46251222e+00]\n",
            " [ 5.91803188e-01]\n",
            " [-1.40675723e+00]\n",
            " [-2.82664712e-01]\n",
            " [ 1.94895800e+00]\n",
            " [-6.64529035e-01]\n",
            " [ 1.56858177e+00]\n",
            " [ 4.68461001e-01]\n",
            " [-1.27883599e+00]\n",
            " [-2.85235828e-01]\n",
            " [ 1.18490742e-01]\n",
            " [-1.25072527e-01]\n",
            " [ 8.72452279e-01]\n",
            " [-4.81289046e-01]\n",
            " [ 2.62079397e-02]\n",
            " [-7.81278533e-01]\n",
            " [-1.22357050e+00]\n",
            " [-1.15577485e-04]\n",
            " [ 2.82347334e-01]\n",
            " [-2.27554200e-01]\n",
            " [-8.52557815e-02]\n",
            " [-6.99224080e-01]\n",
            " [-1.42643638e+00]\n",
            " [ 3.19596949e-01]\n",
            " [-8.94509183e-01]\n",
            " [ 3.32115071e-01]\n",
            " [ 4.10875634e-01]\n",
            " [-1.68375605e+00]\n",
            " [ 6.76792779e-02]\n",
            " [-1.04040959e+00]\n",
            " [-1.48137595e+00]\n",
            " [ 2.58827917e-02]\n",
            " [ 3.93943739e-01]\n",
            " [-1.97905585e+00]\n",
            " [-1.16476002e-01]\n",
            " [ 1.38057283e+00]\n",
            " [-1.82275417e-01]\n",
            " [-1.10740478e-01]\n",
            " [ 4.79284437e-01]\n",
            " [-1.97190958e-01]\n",
            " [-1.08418581e-01]\n",
            " [-1.49918155e+00]\n",
            " [-2.21601854e-01]\n",
            " [-4.69927341e-01]\n",
            " [ 9.26337919e-01]\n",
            " [-5.07182182e-01]\n",
            " [ 5.42819005e-01]\n",
            " [-1.98110640e-02]\n",
            " [ 1.81985785e+00]\n",
            " [ 1.31463231e+00]\n",
            " [-1.34087107e-01]\n",
            " [ 1.44891559e-01]\n",
            " [-8.32472971e-01]\n",
            " [ 4.77003957e-02]\n",
            " [-1.38562456e+00]\n",
            " [ 5.36801763e-02]\n",
            " [ 9.48448078e-01]\n",
            " [-2.04517825e+00]\n",
            " [-1.04801107e+00]\n",
            " [-1.54657258e-02]\n",
            " [-7.63313371e-01]\n",
            " [-6.53295352e-01]\n",
            " [-1.10846344e+00]\n",
            " [-9.33258753e-01]\n",
            " [-1.46140666e+00]\n",
            " [ 3.15454381e-01]\n",
            " [ 8.82041387e-01]\n",
            " [ 8.00512578e-01]\n",
            " [-1.11580780e+00]]\n",
            "Y:  [  -5.20085625   14.8729238    25.03043782  -77.14564399   22.5160535\n",
            "  -51.66645748  -10.67671941 -120.0871125    49.51531036   35.55940789\n",
            " -121.01745801  115.71337274   48.31428437  -94.13115539   80.9001512\n",
            "  -53.11554741   -6.10364603 -169.14315477   59.848036    -39.64528525\n",
            "   26.98823041   -5.21410141   54.21346208  -19.07371353   19.97690416\n",
            "   44.89113617   95.97868154 -114.28590607  -37.6197684   -23.93561327\n",
            "  -76.14138723  116.90443929   46.23186983 -115.98466246  -24.74579422\n",
            "  156.38763273  -55.74045701  125.51375351   36.22059289 -105.6017187\n",
            "  -24.95448323    7.8146657   -11.95455841   69.01122732  -40.86747377\n",
            "    0.32437621  -65.21662721 -101.11600135   -1.81221652   21.11436273\n",
            "  -20.27265644   -8.72276498  -58.55653891 -117.58195374   24.13779065\n",
            "  -74.40718415   25.1538452    31.54657932 -138.46773951    3.69046743\n",
            "  -86.24943704 -122.04121683    0.29798503   30.17227344 -162.43624628\n",
            "  -11.25680692  110.25369005  -16.59752758  -10.79127342   37.09909536\n",
            "  -17.80817268  -10.6028127  -123.48643837  -19.78952422  -39.94528179\n",
            "   73.38494628  -42.96913391   42.25598585   -3.41083395  145.90900098\n",
            "  104.9015162   -12.68624202    9.95753263  -69.37191024    2.06884771\n",
            " -114.26939308    2.55420669   75.17955475 -167.80318211  -86.86642387\n",
            "   -3.05813724  -63.75845444  -54.82865613  -91.77314287  -77.55235847\n",
            " -120.42037527   23.80155212   69.78954344   63.17212001  -92.36926013]\n",
            "t:  [  -9.48402671   27.19983407   27.97810013  -82.22816995   34.38241976\n",
            "  -28.93031591  -11.22431054 -136.92899463   60.82580033   49.88556537\n",
            " -116.25960793  129.32422546   59.30983654 -120.11597816   48.5564092\n",
            "  -36.21201409    7.21080566 -180.36509821   32.70640578  -56.71771347\n",
            "   54.43516378  -21.31949274   63.74986178  -40.58381849   -3.34119689\n",
            "   77.85669085  101.04215582 -114.24483722  -14.42583346  -11.42790981\n",
            "  -67.00913408  102.37070777   63.89159706 -146.17017004  -21.28079729\n",
            "  139.1563591   -52.82925443   88.62409232   53.78040971  -90.23776572\n",
            "  -41.19621841   18.11267945  -15.24054365   71.35227387  -61.10279379\n",
            "   -1.55312901  -72.82465314 -101.89653567    6.35177992   26.99096139\n",
            "  -28.52421603   -8.46848262  -38.81371066 -111.98735466   28.0380457\n",
            "  -81.46184277   17.80831347   44.20403637 -140.52750291   15.62744484\n",
            "  -79.27540996 -145.61806418   45.87082256   39.60787425 -161.22897708\n",
            "  -19.66116196  121.29133628  -21.58141502    6.60768831   55.62527454\n",
            "  -16.75778772  -47.75120472 -136.34003088   -6.1515981   -31.2959619\n",
            "   74.32331008  -64.08596471   28.61678016    9.38979871  128.14763333\n",
            "  106.39207436   -7.64993608    4.94121177  -64.25777221    0.47133213\n",
            " -103.71845754    8.69677424   69.56523678 -167.87710768  -83.38903899\n",
            "  -20.32219208  -58.42018234  -50.76860699 -105.86963974  -67.28007198\n",
            " -121.83513764   11.69316591   63.57999348   42.64303778  -85.34693075]\n"
          ]
        }
      ],
      "source": [
        "N = 100\n",
        "X,t = make_regression(N, 1, noise=15)\n",
        "reg = LinearRegression()\n",
        "reg.fit(X,t)\n",
        "y = reg.predict(X)\n",
        "# print(\"X: \",X)\n",
        "# print(\"Y: \",y)\n",
        "# print(\"t: \",t)"
      ]
    },
    {
      "cell_type": "code",
      "execution_count": 19,
      "metadata": {
        "id": "HfCPTZ4gVgKc",
        "colab": {
          "base_uri": "https://localhost:8080/",
          "height": 485
        },
        "outputId": "5d7622a3-42e5-4cc7-d125-4b535b6d24bc"
      },
      "outputs": [
        {
          "output_type": "stream",
          "name": "stdout",
          "text": [
            "[-0.04186472074981884, 0.2054507764364244, 0.33059465190320775, -0.9282478986510438, 0.29961661947107204, -0.614336036187366, -0.10932913534714664, -1.457300753053566, 0.632256242841653, 0.46031498669318105, -1.4687629123337111, 1.4478378957014144, 0.617459212131561, -1.1375149219276, 1.0189276868036221, -0.632189295354694, -0.05298738443341573, -2.061687144391276, 0.7595587824751416, -0.4662312856988919, 0.3547152931822768, -0.04202790540096942, 0.6901389996499643, -0.21278283325734199, 0.2683334740141951, 0.5752849132781768, 1.204700083328382, -1.3858280036208743, -0.44127625950450267, -0.2726830188668399, -0.9158751287411456, 1.4625122228308196, 0.5918031878712343, -1.4067572346842674, -0.2826647116441027, 1.94895800398471, -0.6645290350952694, 1.5685817734026468, 0.4684610008077945, -1.2788359915483996, -0.2852358280685691, 0.11849074161621839, -0.1250725274025624, 0.8724522789529053, -0.4812890456334507, 0.026207939655264093, -0.7812785331840544, -1.2235704952806432, -0.00011557748521071516, 0.2823473335071005, -0.22755419968951518, -0.08525578148610824, -0.6992240797799587, -1.4264363825774216, 0.31959694852387716, -0.8945091829920438, 0.3321150708996723, 0.41087563390590454, -1.683756054282482, 0.06767927793753839, -1.040409589080565, -1.4813759538626474, 0.025882791734551578, 0.3939437385762433, -1.979055851047847, -0.11647600207736157, 1.380572829714913, -0.18227541715305026, -0.1107404780185831, 0.4792844369543374, -0.19719095841392467, -0.10841858072588796, -1.499181553121834, -0.22160185365623825, -0.46992734062376207, 0.9263379186482046, -0.5071821818987441, 0.5428190045227752, -0.01981106398437506, 1.8198578536812373, 1.314632307576598, -0.13408710731023177, 0.14489155895229525, -0.832472971178318, 0.04770039570558903, -1.3856245581586892, 0.05368017626569206, 0.9484480784774216, -2.0451782455641747, -1.0480110674198229, -0.015465725829433997, -0.7633133705111969, -0.6532953518108278, -1.108463440957716, -0.9332587532811504, -1.4614066587217478, 0.3154543805185879, 0.8820413865903095, 0.8005125782515506, -1.1158077994493427]\n"
          ]
        },
        {
          "output_type": "execute_result",
          "data": {
            "text/plain": [
              "<matplotlib.collections.PathCollection at 0x7d965dad5e40>"
            ]
          },
          "metadata": {},
          "execution_count": 19
        },
        {
          "output_type": "display_data",
          "data": {
            "text/plain": [
              "<Figure size 640x480 with 1 Axes>"
            ],
            "image/png": "[encoded data removed]"
          },
          "metadata": {}
        }
      ],
      "source": [
        "X1D = [item[0] for item in X]\n",
        "print(X1D)\n",
        "\n",
        "\n",
        "for i, x in enumerate(X1D):\n",
        "  plt.plot([x,x],[t[i],y[i]],'r')\n",
        "plt.scatter(X1D,t)\n",
        "plt.scatter(X1D,y)"
      ]
    },
    {
      "cell_type": "markdown",
      "metadata": {
        "id": "-vAy7QRAVgKc"
      },
      "source": [
        "**Q:** Vary the learning rate logarithmically as for LMS and conclude."
      ]
    },
    {
      "cell_type": "code",
      "execution_count": null,
      "metadata": {
        "id": "2_rI-n1BVgKc"
      },
      "outputs": [],
      "source": []
    }
  ],
  "metadata": {
    "kernelspec": {
      "display_name": "Python 3.9.13 ('base')",
      "language": "python",
      "name": "python3"
    },
    "language_info": {
      "codemirror_mode": {
        "name": "ipython",
        "version": 3
      },
      "file_extension": ".py",
      "mimetype": "text/x-python",
      "name": "python",
      "nbconvert_exporter": "python",
      "pygments_lexer": "ipython3",
      "version": "3.9.13"
    },
    "vscode": {
      "interpreter": {
        "hash": "3d24234067c217f49dc985cbc60012ce72928059d528f330ba9cb23ce737906d"
      }
    },
    "colab": {
      "provenance": []
    }
  },
  "nbformat": 4,
  "nbformat_minor": 0
}